{
 "cells": [
  {
   "cell_type": "code",
   "execution_count": 2,
   "id": "a0be4935-26a5-46c9-ac77-ed8f79f1b9c0",
   "metadata": {},
   "outputs": [],
   "source": [
    "# adding a comment to see the change in github\n",
    "import pandas as pd\n",
    "import matplotlib.pyplot as plt\n",
    "%matplotlib inline"
   ]
  },
  {
   "cell_type": "code",
   "execution_count": 3,
   "id": "3e341a1b-70e3-4e39-9098-f8adce4503dc",
   "metadata": {},
   "outputs": [],
   "source": [
    "# read our CSV file\n",
    "path = '_Olly_.csv'\n",
    "survey = pd.read_csv(path)"
   ]
  },
  {
   "cell_type": "code",
   "execution_count": 4,
   "id": "67b68509-836b-4ad6-b610-53d0cd923588",
   "metadata": {},
   "outputs": [
    {
     "data": {
      "text/html": [
       "<div>\n",
       "<style scoped>\n",
       "    .dataframe tbody tr th:only-of-type {\n",
       "        vertical-align: middle;\n",
       "    }\n",
       "\n",
       "    .dataframe tbody tr th {\n",
       "        vertical-align: top;\n",
       "    }\n",
       "\n",
       "    .dataframe thead th {\n",
       "        text-align: right;\n",
       "    }\n",
       "</style>\n",
       "<table border=\"1\" class=\"dataframe\">\n",
       "  <thead>\n",
       "    <tr style=\"text-align: right;\">\n",
       "      <th></th>\n",
       "      <th>Timestamp</th>\n",
       "      <th>Open_or_Closed</th>\n",
       "      <th>Dark_or_Light</th>\n",
       "      <th>Private_or_Public</th>\n",
       "      <th>Natural_or_Manmade</th>\n",
       "      <th>Old_or_New</th>\n",
       "      <th>Quiet_or_Loud</th>\n",
       "    </tr>\n",
       "  </thead>\n",
       "  <tbody>\n",
       "    <tr>\n",
       "      <th>0</th>\n",
       "      <td>17/10/2024 12:34:54</td>\n",
       "      <td>Open</td>\n",
       "      <td>Dark</td>\n",
       "      <td>Private</td>\n",
       "      <td>Natural</td>\n",
       "      <td>New</td>\n",
       "      <td>Quiet</td>\n",
       "    </tr>\n",
       "    <tr>\n",
       "      <th>1</th>\n",
       "      <td>17/10/2024 12:35:04</td>\n",
       "      <td>Open</td>\n",
       "      <td>Dark</td>\n",
       "      <td>Private</td>\n",
       "      <td>Natural</td>\n",
       "      <td>New</td>\n",
       "      <td>Quiet</td>\n",
       "    </tr>\n",
       "    <tr>\n",
       "      <th>2</th>\n",
       "      <td>17/10/2024 12:37:42</td>\n",
       "      <td>Closed</td>\n",
       "      <td>Light</td>\n",
       "      <td>Private</td>\n",
       "      <td>Natural</td>\n",
       "      <td>New</td>\n",
       "      <td>Quiet</td>\n",
       "    </tr>\n",
       "    <tr>\n",
       "      <th>3</th>\n",
       "      <td>17/10/2024 12:38:39</td>\n",
       "      <td>Open</td>\n",
       "      <td>Light</td>\n",
       "      <td>Private</td>\n",
       "      <td>Natural</td>\n",
       "      <td>Old</td>\n",
       "      <td>Quiet</td>\n",
       "    </tr>\n",
       "    <tr>\n",
       "      <th>4</th>\n",
       "      <td>17/10/2024 12:42:22</td>\n",
       "      <td>Open</td>\n",
       "      <td>Dark</td>\n",
       "      <td>Private</td>\n",
       "      <td>Natural</td>\n",
       "      <td>New</td>\n",
       "      <td>Loud</td>\n",
       "    </tr>\n",
       "  </tbody>\n",
       "</table>\n",
       "</div>"
      ],
      "text/plain": [
       "             Timestamp Open_or_Closed Dark_or_Light Private_or_Public  \\\n",
       "0  17/10/2024 12:34:54           Open          Dark           Private   \n",
       "1  17/10/2024 12:35:04           Open          Dark           Private   \n",
       "2  17/10/2024 12:37:42         Closed         Light           Private   \n",
       "3  17/10/2024 12:38:39           Open         Light           Private   \n",
       "4  17/10/2024 12:42:22           Open          Dark           Private   \n",
       "\n",
       "  Natural_or_Manmade Old_or_New Quiet_or_Loud  \n",
       "0            Natural        New         Quiet  \n",
       "1            Natural        New         Quiet  \n",
       "2            Natural        New         Quiet  \n",
       "3            Natural        Old         Quiet  \n",
       "4            Natural        New          Loud  "
      ]
     },
     "execution_count": 4,
     "metadata": {},
     "output_type": "execute_result"
    }
   ],
   "source": [
    "survey.head()"
   ]
  },
  {
   "cell_type": "code",
   "execution_count": 5,
   "id": "a95a885e-6849-4182-a2cc-eefec054e17b",
   "metadata": {},
   "outputs": [
    {
     "data": {
      "text/html": [
       "<div>\n",
       "<style scoped>\n",
       "    .dataframe tbody tr th:only-of-type {\n",
       "        vertical-align: middle;\n",
       "    }\n",
       "\n",
       "    .dataframe tbody tr th {\n",
       "        vertical-align: top;\n",
       "    }\n",
       "\n",
       "    .dataframe thead th {\n",
       "        text-align: right;\n",
       "    }\n",
       "</style>\n",
       "<table border=\"1\" class=\"dataframe\">\n",
       "  <thead>\n",
       "    <tr style=\"text-align: right;\">\n",
       "      <th></th>\n",
       "      <th>Timestamp</th>\n",
       "      <th>Open_or_Closed</th>\n",
       "      <th>Dark_or_Light</th>\n",
       "      <th>Private_or_Public</th>\n",
       "      <th>Natural_or_Manmade</th>\n",
       "      <th>Old_or_New</th>\n",
       "      <th>Quiet_or_Loud</th>\n",
       "    </tr>\n",
       "  </thead>\n",
       "  <tbody>\n",
       "    <tr>\n",
       "      <th>3</th>\n",
       "      <td>17/10/2024 12:38:39</td>\n",
       "      <td>Open</td>\n",
       "      <td>Light</td>\n",
       "      <td>Private</td>\n",
       "      <td>Natural</td>\n",
       "      <td>Old</td>\n",
       "      <td>Quiet</td>\n",
       "    </tr>\n",
       "    <tr>\n",
       "      <th>4</th>\n",
       "      <td>17/10/2024 12:42:22</td>\n",
       "      <td>Open</td>\n",
       "      <td>Dark</td>\n",
       "      <td>Private</td>\n",
       "      <td>Natural</td>\n",
       "      <td>New</td>\n",
       "      <td>Loud</td>\n",
       "    </tr>\n",
       "    <tr>\n",
       "      <th>5</th>\n",
       "      <td>17/10/2024 12:50:56</td>\n",
       "      <td>Closed</td>\n",
       "      <td>Dark</td>\n",
       "      <td>Private</td>\n",
       "      <td>Natural</td>\n",
       "      <td>New</td>\n",
       "      <td>Quiet</td>\n",
       "    </tr>\n",
       "    <tr>\n",
       "      <th>6</th>\n",
       "      <td>17/10/2024 12:55:29</td>\n",
       "      <td>Open</td>\n",
       "      <td>Light</td>\n",
       "      <td>Private</td>\n",
       "      <td>Natural</td>\n",
       "      <td>Old</td>\n",
       "      <td>Quiet</td>\n",
       "    </tr>\n",
       "  </tbody>\n",
       "</table>\n",
       "</div>"
      ],
      "text/plain": [
       "             Timestamp Open_or_Closed Dark_or_Light Private_or_Public  \\\n",
       "3  17/10/2024 12:38:39           Open         Light           Private   \n",
       "4  17/10/2024 12:42:22           Open          Dark           Private   \n",
       "5  17/10/2024 12:50:56         Closed          Dark           Private   \n",
       "6  17/10/2024 12:55:29           Open         Light           Private   \n",
       "\n",
       "  Natural_or_Manmade Old_or_New Quiet_or_Loud  \n",
       "3            Natural        Old         Quiet  \n",
       "4            Natural        New          Loud  \n",
       "5            Natural        New         Quiet  \n",
       "6            Natural        Old         Quiet  "
      ]
     },
     "execution_count": 5,
     "metadata": {},
     "output_type": "execute_result"
    }
   ],
   "source": [
    "survey[3:7]"
   ]
  },
  {
   "cell_type": "code",
   "execution_count": 6,
   "id": "7052f357-1b20-42b4-81a1-2db6d309c8c8",
   "metadata": {},
   "outputs": [
    {
     "data": {
      "text/plain": [
       "0       Open\n",
       "1       Open\n",
       "2     Closed\n",
       "3       Open\n",
       "4       Open\n",
       "5     Closed\n",
       "6       Open\n",
       "7       Open\n",
       "8       Open\n",
       "9       Open\n",
       "10      Open\n",
       "11      Open\n",
       "12      Open\n",
       "13      Open\n",
       "14    Closed\n",
       "15    Closed\n",
       "16      Open\n",
       "17    Closed\n",
       "Name: Open_or_Closed, dtype: object"
      ]
     },
     "execution_count": 6,
     "metadata": {},
     "output_type": "execute_result"
    }
   ],
   "source": [
    "survey['Open_or_Closed']"
   ]
  },
  {
   "cell_type": "code",
   "execution_count": 7,
   "id": "7dbf1eca-ead1-44d1-b7c8-1b926898287c",
   "metadata": {},
   "outputs": [
    {
     "data": {
      "text/plain": [
       "Index(['Timestamp', 'Open_or_Closed', 'Dark_or_Light', 'Private_or_Public',\n",
       "       'Natural_or_Manmade', 'Old_or_New', 'Quiet_or_Loud'],\n",
       "      dtype='object')"
      ]
     },
     "execution_count": 7,
     "metadata": {},
     "output_type": "execute_result"
    }
   ],
   "source": [
    "survey.columns"
   ]
  },
  {
   "cell_type": "code",
   "execution_count": 8,
   "id": "8b6bd179-387f-4d9d-91d2-b5927f3c69fc",
   "metadata": {},
   "outputs": [
    {
     "data": {
      "text/html": [
       "<div>\n",
       "<style scoped>\n",
       "    .dataframe tbody tr th:only-of-type {\n",
       "        vertical-align: middle;\n",
       "    }\n",
       "\n",
       "    .dataframe tbody tr th {\n",
       "        vertical-align: top;\n",
       "    }\n",
       "\n",
       "    .dataframe thead th {\n",
       "        text-align: right;\n",
       "    }\n",
       "</style>\n",
       "<table border=\"1\" class=\"dataframe\">\n",
       "  <thead>\n",
       "    <tr style=\"text-align: right;\">\n",
       "      <th></th>\n",
       "      <th>Timestamp</th>\n",
       "      <th>Open_or_Closed</th>\n",
       "      <th>Dark_or_Light</th>\n",
       "      <th>Private_or_Public</th>\n",
       "      <th>Natural_or_Manmade</th>\n",
       "      <th>Old_or_New</th>\n",
       "      <th>Quiet_or_Loud</th>\n",
       "    </tr>\n",
       "  </thead>\n",
       "  <tbody>\n",
       "    <tr>\n",
       "      <th>0</th>\n",
       "      <td>17/10/2024 12:34:54</td>\n",
       "      <td>Open</td>\n",
       "      <td>Dark</td>\n",
       "      <td>Private</td>\n",
       "      <td>Natural</td>\n",
       "      <td>New</td>\n",
       "      <td>Quiet</td>\n",
       "    </tr>\n",
       "    <tr>\n",
       "      <th>1</th>\n",
       "      <td>17/10/2024 12:35:04</td>\n",
       "      <td>Open</td>\n",
       "      <td>Dark</td>\n",
       "      <td>Private</td>\n",
       "      <td>Natural</td>\n",
       "      <td>New</td>\n",
       "      <td>Quiet</td>\n",
       "    </tr>\n",
       "    <tr>\n",
       "      <th>2</th>\n",
       "      <td>17/10/2024 12:37:42</td>\n",
       "      <td>Closed</td>\n",
       "      <td>Light</td>\n",
       "      <td>Private</td>\n",
       "      <td>Natural</td>\n",
       "      <td>New</td>\n",
       "      <td>Quiet</td>\n",
       "    </tr>\n",
       "    <tr>\n",
       "      <th>3</th>\n",
       "      <td>17/10/2024 12:38:39</td>\n",
       "      <td>Open</td>\n",
       "      <td>Light</td>\n",
       "      <td>Private</td>\n",
       "      <td>Natural</td>\n",
       "      <td>Old</td>\n",
       "      <td>Quiet</td>\n",
       "    </tr>\n",
       "    <tr>\n",
       "      <th>4</th>\n",
       "      <td>17/10/2024 12:42:22</td>\n",
       "      <td>Open</td>\n",
       "      <td>Dark</td>\n",
       "      <td>Private</td>\n",
       "      <td>Natural</td>\n",
       "      <td>New</td>\n",
       "      <td>Loud</td>\n",
       "    </tr>\n",
       "    <tr>\n",
       "      <th>5</th>\n",
       "      <td>17/10/2024 12:50:56</td>\n",
       "      <td>Closed</td>\n",
       "      <td>Dark</td>\n",
       "      <td>Private</td>\n",
       "      <td>Natural</td>\n",
       "      <td>New</td>\n",
       "      <td>Quiet</td>\n",
       "    </tr>\n",
       "    <tr>\n",
       "      <th>6</th>\n",
       "      <td>17/10/2024 12:55:29</td>\n",
       "      <td>Open</td>\n",
       "      <td>Light</td>\n",
       "      <td>Private</td>\n",
       "      <td>Natural</td>\n",
       "      <td>Old</td>\n",
       "      <td>Quiet</td>\n",
       "    </tr>\n",
       "    <tr>\n",
       "      <th>7</th>\n",
       "      <td>17/10/2024 13:01:06</td>\n",
       "      <td>Open</td>\n",
       "      <td>Light</td>\n",
       "      <td>Public</td>\n",
       "      <td>Natural</td>\n",
       "      <td>New</td>\n",
       "      <td>Quiet</td>\n",
       "    </tr>\n",
       "    <tr>\n",
       "      <th>8</th>\n",
       "      <td>17/10/2024 13:05:36</td>\n",
       "      <td>Open</td>\n",
       "      <td>Dark</td>\n",
       "      <td>Private</td>\n",
       "      <td>Natural</td>\n",
       "      <td>Old</td>\n",
       "      <td>Quiet</td>\n",
       "    </tr>\n",
       "    <tr>\n",
       "      <th>9</th>\n",
       "      <td>17/10/2024 13:08:01</td>\n",
       "      <td>Open</td>\n",
       "      <td>Dark</td>\n",
       "      <td>Private</td>\n",
       "      <td>Natural</td>\n",
       "      <td>New</td>\n",
       "      <td>Quiet</td>\n",
       "    </tr>\n",
       "    <tr>\n",
       "      <th>10</th>\n",
       "      <td>17/10/2024 13:26:31</td>\n",
       "      <td>Open</td>\n",
       "      <td>Light</td>\n",
       "      <td>Public</td>\n",
       "      <td>Natural</td>\n",
       "      <td>New</td>\n",
       "      <td>Loud</td>\n",
       "    </tr>\n",
       "    <tr>\n",
       "      <th>11</th>\n",
       "      <td>17/10/2024 13:39:37</td>\n",
       "      <td>Open</td>\n",
       "      <td>Light</td>\n",
       "      <td>Private</td>\n",
       "      <td>Natural</td>\n",
       "      <td>New</td>\n",
       "      <td>Quiet</td>\n",
       "    </tr>\n",
       "    <tr>\n",
       "      <th>12</th>\n",
       "      <td>17/10/2024 13:50:14</td>\n",
       "      <td>Open</td>\n",
       "      <td>Light</td>\n",
       "      <td>Private</td>\n",
       "      <td>Natural</td>\n",
       "      <td>Old</td>\n",
       "      <td>Quiet</td>\n",
       "    </tr>\n",
       "    <tr>\n",
       "      <th>13</th>\n",
       "      <td>17/10/2024 13:55:32</td>\n",
       "      <td>Open</td>\n",
       "      <td>Dark</td>\n",
       "      <td>Private</td>\n",
       "      <td>Natural</td>\n",
       "      <td>New</td>\n",
       "      <td>Quiet</td>\n",
       "    </tr>\n",
       "    <tr>\n",
       "      <th>14</th>\n",
       "      <td>17/10/2024 14:00:48</td>\n",
       "      <td>Closed</td>\n",
       "      <td>Dark</td>\n",
       "      <td>Private</td>\n",
       "      <td>Manmade</td>\n",
       "      <td>Old</td>\n",
       "      <td>Quiet</td>\n",
       "    </tr>\n",
       "    <tr>\n",
       "      <th>15</th>\n",
       "      <td>17/10/2024 17:11:40</td>\n",
       "      <td>Closed</td>\n",
       "      <td>Light</td>\n",
       "      <td>Private</td>\n",
       "      <td>Natural</td>\n",
       "      <td>Old</td>\n",
       "      <td>Quiet</td>\n",
       "    </tr>\n",
       "    <tr>\n",
       "      <th>16</th>\n",
       "      <td>18/10/2024 16:29:57</td>\n",
       "      <td>Open</td>\n",
       "      <td>Dark</td>\n",
       "      <td>Public</td>\n",
       "      <td>Natural</td>\n",
       "      <td>New</td>\n",
       "      <td>Quiet</td>\n",
       "    </tr>\n",
       "    <tr>\n",
       "      <th>17</th>\n",
       "      <td>19/10/2024 21:41:43</td>\n",
       "      <td>Closed</td>\n",
       "      <td>Light</td>\n",
       "      <td>Private</td>\n",
       "      <td>Natural</td>\n",
       "      <td>Old</td>\n",
       "      <td>Quiet</td>\n",
       "    </tr>\n",
       "  </tbody>\n",
       "</table>\n",
       "</div>"
      ],
      "text/plain": [
       "              Timestamp Open_or_Closed Dark_or_Light Private_or_Public  \\\n",
       "0   17/10/2024 12:34:54           Open          Dark           Private   \n",
       "1   17/10/2024 12:35:04           Open          Dark           Private   \n",
       "2   17/10/2024 12:37:42         Closed         Light           Private   \n",
       "3   17/10/2024 12:38:39           Open         Light           Private   \n",
       "4   17/10/2024 12:42:22           Open          Dark           Private   \n",
       "5   17/10/2024 12:50:56         Closed          Dark           Private   \n",
       "6   17/10/2024 12:55:29           Open         Light           Private   \n",
       "7   17/10/2024 13:01:06           Open         Light            Public   \n",
       "8   17/10/2024 13:05:36           Open          Dark           Private   \n",
       "9   17/10/2024 13:08:01           Open          Dark           Private   \n",
       "10  17/10/2024 13:26:31           Open         Light            Public   \n",
       "11  17/10/2024 13:39:37           Open         Light           Private   \n",
       "12  17/10/2024 13:50:14           Open         Light           Private   \n",
       "13  17/10/2024 13:55:32           Open          Dark           Private   \n",
       "14  17/10/2024 14:00:48         Closed          Dark           Private   \n",
       "15  17/10/2024 17:11:40         Closed         Light           Private   \n",
       "16  18/10/2024 16:29:57           Open          Dark            Public   \n",
       "17  19/10/2024 21:41:43         Closed         Light           Private   \n",
       "\n",
       "   Natural_or_Manmade Old_or_New Quiet_or_Loud  \n",
       "0             Natural        New         Quiet  \n",
       "1             Natural        New         Quiet  \n",
       "2             Natural        New         Quiet  \n",
       "3             Natural        Old         Quiet  \n",
       "4             Natural        New          Loud  \n",
       "5             Natural        New         Quiet  \n",
       "6             Natural        Old         Quiet  \n",
       "7             Natural        New         Quiet  \n",
       "8             Natural        Old         Quiet  \n",
       "9             Natural        New         Quiet  \n",
       "10            Natural        New          Loud  \n",
       "11            Natural        New         Quiet  \n",
       "12            Natural        Old         Quiet  \n",
       "13            Natural        New         Quiet  \n",
       "14            Manmade        Old         Quiet  \n",
       "15            Natural        Old         Quiet  \n",
       "16            Natural        New         Quiet  \n",
       "17            Natural        Old         Quiet  "
      ]
     },
     "metadata": {},
     "output_type": "display_data"
    }
   ],
   "source": [
    "display(survey)"
   ]
  },
  {
   "cell_type": "code",
   "execution_count": 21,
   "id": "8b7d326f-8e90-455c-aaac-fc742791d43e",
   "metadata": {},
   "outputs": [
    {
     "data": {
      "text/plain": [
       "0       Open\n",
       "1       Open\n",
       "2     Closed\n",
       "3       Open\n",
       "4       Open\n",
       "5     Closed\n",
       "6       Open\n",
       "7       Open\n",
       "8       Open\n",
       "9       Open\n",
       "10      Open\n",
       "11      Open\n",
       "12      Open\n",
       "13      Open\n",
       "14    Closed\n",
       "15    Closed\n",
       "16      Open\n",
       "17    Closed\n",
       "Name: Open_or_Closed, dtype: object"
      ]
     },
     "execution_count": 21,
     "metadata": {},
     "output_type": "execute_result"
    }
   ],
   "source": [
    "survey.Open_or_Closed"
   ]
  },
  {
   "cell_type": "code",
   "execution_count": 9,
   "id": "3af2eb7a-232c-43c0-addc-22af318fecca",
   "metadata": {},
   "outputs": [
    {
     "data": {
      "text/html": [
       "<div>\n",
       "<style scoped>\n",
       "    .dataframe tbody tr th:only-of-type {\n",
       "        vertical-align: middle;\n",
       "    }\n",
       "\n",
       "    .dataframe tbody tr th {\n",
       "        vertical-align: top;\n",
       "    }\n",
       "\n",
       "    .dataframe thead th {\n",
       "        text-align: right;\n",
       "    }\n",
       "</style>\n",
       "<table border=\"1\" class=\"dataframe\">\n",
       "  <thead>\n",
       "    <tr style=\"text-align: right;\">\n",
       "      <th></th>\n",
       "      <th>Timestamp</th>\n",
       "      <th>Open_or_Closed</th>\n",
       "      <th>Dark_or_Light</th>\n",
       "      <th>Private_or_Public</th>\n",
       "      <th>Natural_or_Manmade</th>\n",
       "      <th>Old_or_New</th>\n",
       "      <th>Quiet_or_Loud</th>\n",
       "    </tr>\n",
       "  </thead>\n",
       "  <tbody>\n",
       "    <tr>\n",
       "      <th>0</th>\n",
       "      <td>17/10/2024 12:34:54</td>\n",
       "      <td>Open</td>\n",
       "      <td>Dark</td>\n",
       "      <td>Private</td>\n",
       "      <td>Natural</td>\n",
       "      <td>New</td>\n",
       "      <td>Quiet</td>\n",
       "    </tr>\n",
       "    <tr>\n",
       "      <th>1</th>\n",
       "      <td>17/10/2024 12:35:04</td>\n",
       "      <td>Open</td>\n",
       "      <td>Dark</td>\n",
       "      <td>Private</td>\n",
       "      <td>Natural</td>\n",
       "      <td>New</td>\n",
       "      <td>Quiet</td>\n",
       "    </tr>\n",
       "    <tr>\n",
       "      <th>3</th>\n",
       "      <td>17/10/2024 12:38:39</td>\n",
       "      <td>Open</td>\n",
       "      <td>Light</td>\n",
       "      <td>Private</td>\n",
       "      <td>Natural</td>\n",
       "      <td>Old</td>\n",
       "      <td>Quiet</td>\n",
       "    </tr>\n",
       "    <tr>\n",
       "      <th>4</th>\n",
       "      <td>17/10/2024 12:42:22</td>\n",
       "      <td>Open</td>\n",
       "      <td>Dark</td>\n",
       "      <td>Private</td>\n",
       "      <td>Natural</td>\n",
       "      <td>New</td>\n",
       "      <td>Loud</td>\n",
       "    </tr>\n",
       "    <tr>\n",
       "      <th>6</th>\n",
       "      <td>17/10/2024 12:55:29</td>\n",
       "      <td>Open</td>\n",
       "      <td>Light</td>\n",
       "      <td>Private</td>\n",
       "      <td>Natural</td>\n",
       "      <td>Old</td>\n",
       "      <td>Quiet</td>\n",
       "    </tr>\n",
       "    <tr>\n",
       "      <th>7</th>\n",
       "      <td>17/10/2024 13:01:06</td>\n",
       "      <td>Open</td>\n",
       "      <td>Light</td>\n",
       "      <td>Public</td>\n",
       "      <td>Natural</td>\n",
       "      <td>New</td>\n",
       "      <td>Quiet</td>\n",
       "    </tr>\n",
       "    <tr>\n",
       "      <th>8</th>\n",
       "      <td>17/10/2024 13:05:36</td>\n",
       "      <td>Open</td>\n",
       "      <td>Dark</td>\n",
       "      <td>Private</td>\n",
       "      <td>Natural</td>\n",
       "      <td>Old</td>\n",
       "      <td>Quiet</td>\n",
       "    </tr>\n",
       "    <tr>\n",
       "      <th>9</th>\n",
       "      <td>17/10/2024 13:08:01</td>\n",
       "      <td>Open</td>\n",
       "      <td>Dark</td>\n",
       "      <td>Private</td>\n",
       "      <td>Natural</td>\n",
       "      <td>New</td>\n",
       "      <td>Quiet</td>\n",
       "    </tr>\n",
       "    <tr>\n",
       "      <th>10</th>\n",
       "      <td>17/10/2024 13:26:31</td>\n",
       "      <td>Open</td>\n",
       "      <td>Light</td>\n",
       "      <td>Public</td>\n",
       "      <td>Natural</td>\n",
       "      <td>New</td>\n",
       "      <td>Loud</td>\n",
       "    </tr>\n",
       "    <tr>\n",
       "      <th>11</th>\n",
       "      <td>17/10/2024 13:39:37</td>\n",
       "      <td>Open</td>\n",
       "      <td>Light</td>\n",
       "      <td>Private</td>\n",
       "      <td>Natural</td>\n",
       "      <td>New</td>\n",
       "      <td>Quiet</td>\n",
       "    </tr>\n",
       "    <tr>\n",
       "      <th>12</th>\n",
       "      <td>17/10/2024 13:50:14</td>\n",
       "      <td>Open</td>\n",
       "      <td>Light</td>\n",
       "      <td>Private</td>\n",
       "      <td>Natural</td>\n",
       "      <td>Old</td>\n",
       "      <td>Quiet</td>\n",
       "    </tr>\n",
       "    <tr>\n",
       "      <th>13</th>\n",
       "      <td>17/10/2024 13:55:32</td>\n",
       "      <td>Open</td>\n",
       "      <td>Dark</td>\n",
       "      <td>Private</td>\n",
       "      <td>Natural</td>\n",
       "      <td>New</td>\n",
       "      <td>Quiet</td>\n",
       "    </tr>\n",
       "    <tr>\n",
       "      <th>16</th>\n",
       "      <td>18/10/2024 16:29:57</td>\n",
       "      <td>Open</td>\n",
       "      <td>Dark</td>\n",
       "      <td>Public</td>\n",
       "      <td>Natural</td>\n",
       "      <td>New</td>\n",
       "      <td>Quiet</td>\n",
       "    </tr>\n",
       "  </tbody>\n",
       "</table>\n",
       "</div>"
      ],
      "text/plain": [
       "              Timestamp Open_or_Closed Dark_or_Light Private_or_Public  \\\n",
       "0   17/10/2024 12:34:54           Open          Dark           Private   \n",
       "1   17/10/2024 12:35:04           Open          Dark           Private   \n",
       "3   17/10/2024 12:38:39           Open         Light           Private   \n",
       "4   17/10/2024 12:42:22           Open          Dark           Private   \n",
       "6   17/10/2024 12:55:29           Open         Light           Private   \n",
       "7   17/10/2024 13:01:06           Open         Light            Public   \n",
       "8   17/10/2024 13:05:36           Open          Dark           Private   \n",
       "9   17/10/2024 13:08:01           Open          Dark           Private   \n",
       "10  17/10/2024 13:26:31           Open         Light            Public   \n",
       "11  17/10/2024 13:39:37           Open         Light           Private   \n",
       "12  17/10/2024 13:50:14           Open         Light           Private   \n",
       "13  17/10/2024 13:55:32           Open          Dark           Private   \n",
       "16  18/10/2024 16:29:57           Open          Dark            Public   \n",
       "\n",
       "   Natural_or_Manmade Old_or_New Quiet_or_Loud  \n",
       "0             Natural        New         Quiet  \n",
       "1             Natural        New         Quiet  \n",
       "3             Natural        Old         Quiet  \n",
       "4             Natural        New          Loud  \n",
       "6             Natural        Old         Quiet  \n",
       "7             Natural        New         Quiet  \n",
       "8             Natural        Old         Quiet  \n",
       "9             Natural        New         Quiet  \n",
       "10            Natural        New          Loud  \n",
       "11            Natural        New         Quiet  \n",
       "12            Natural        Old         Quiet  \n",
       "13            Natural        New         Quiet  \n",
       "16            Natural        New         Quiet  "
      ]
     },
     "execution_count": 9,
     "metadata": {},
     "output_type": "execute_result"
    }
   ],
   "source": [
    "survey.loc[survey.Open_or_Closed == 'Open']"
   ]
  },
  {
   "cell_type": "code",
   "execution_count": 10,
   "id": "9fe6c9aa-e1f6-40f9-a93a-550fdc94eb01",
   "metadata": {},
   "outputs": [
    {
     "data": {
      "text/plain": [
       "0     Private\n",
       "1     Private\n",
       "3     Private\n",
       "4     Private\n",
       "6     Private\n",
       "7      Public\n",
       "8     Private\n",
       "9     Private\n",
       "10     Public\n",
       "11    Private\n",
       "12    Private\n",
       "13    Private\n",
       "16     Public\n",
       "Name: Private_or_Public, dtype: object"
      ]
     },
     "execution_count": 10,
     "metadata": {},
     "output_type": "execute_result"
    }
   ],
   "source": [
    "survey.loc[survey.Open_or_Closed == 'Open', 'Private_or_Public']"
   ]
  },
  {
   "cell_type": "code",
   "execution_count": 11,
   "id": "6c1263b5-e0a9-4d80-bb3c-9be34543edc0",
   "metadata": {},
   "outputs": [
    {
     "data": {
      "text/plain": [
       "Text(0.5, 1.0, 'Are people more Private or Public?')"
      ]
     },
     "execution_count": 11,
     "metadata": {},
     "output_type": "execute_result"
    },
    {
     "data": {
      "image/png": "[encoded data removed]",
      "text/plain": [
       "<Figure size 640x480 with 1 Axes>"
      ]
     },
     "metadata": {},
     "output_type": "display_data"
    }
   ],
   "source": [
    "plt.hist(survey.Private_or_Public, bins=10)\n",
    "plt.xlabel('Private or Public')\n",
    "plt.ylabel('Amount of people')\n",
    "plt.title('Are people more Private or Public?')"
   ]
  },
  {
   "cell_type": "code",
   "execution_count": 13,
   "id": "ce4631e4-fb09-4c7b-ad0d-a6615c40b1da",
   "metadata": {},
   "outputs": [],
   "source": [
    "groupings = survey.groupby('Open_or_Closed')\n",
    "# groupings.Private_or_Public.median()"
   ]
  },
  {
   "cell_type": "code",
   "execution_count": 14,
   "id": "8d80dbf1-edb1-4a87-93d0-05fd2003de1b",
   "metadata": {},
   "outputs": [
    {
     "data": {
      "text/html": [
       "<div>\n",
       "<style scoped>\n",
       "    .dataframe tbody tr th:only-of-type {\n",
       "        vertical-align: middle;\n",
       "    }\n",
       "\n",
       "    .dataframe tbody tr th {\n",
       "        vertical-align: top;\n",
       "    }\n",
       "\n",
       "    .dataframe thead th {\n",
       "        text-align: right;\n",
       "    }\n",
       "</style>\n",
       "<table border=\"1\" class=\"dataframe\">\n",
       "  <thead>\n",
       "    <tr style=\"text-align: right;\">\n",
       "      <th></th>\n",
       "      <th>count</th>\n",
       "      <th>unique</th>\n",
       "      <th>top</th>\n",
       "      <th>freq</th>\n",
       "    </tr>\n",
       "    <tr>\n",
       "      <th>Open_or_Closed</th>\n",
       "      <th></th>\n",
       "      <th></th>\n",
       "      <th></th>\n",
       "      <th></th>\n",
       "    </tr>\n",
       "  </thead>\n",
       "  <tbody>\n",
       "    <tr>\n",
       "      <th>Closed</th>\n",
       "      <td>5</td>\n",
       "      <td>1</td>\n",
       "      <td>Private</td>\n",
       "      <td>5</td>\n",
       "    </tr>\n",
       "    <tr>\n",
       "      <th>Open</th>\n",
       "      <td>13</td>\n",
       "      <td>2</td>\n",
       "      <td>Private</td>\n",
       "      <td>10</td>\n",
       "    </tr>\n",
       "  </tbody>\n",
       "</table>\n",
       "</div>"
      ],
      "text/plain": [
       "               count unique      top freq\n",
       "Open_or_Closed                           \n",
       "Closed             5      1  Private    5\n",
       "Open              13      2  Private   10"
      ]
     },
     "execution_count": 14,
     "metadata": {},
     "output_type": "execute_result"
    }
   ],
   "source": [
    "groupings.Private_or_Public.describe()"
   ]
  },
  {
   "cell_type": "code",
   "execution_count": 15,
   "id": "4f0d1240-b34a-4d48-a892-432a7c62da7e",
   "metadata": {},
   "outputs": [
    {
     "data": {
      "text/plain": [
       "Text(0, 0.5, 'Amount of votes')"
      ]
     },
     "execution_count": 15,
     "metadata": {},
     "output_type": "execute_result"
    },
    {
     "data": {
      "image/png": "[encoded data removed]",
      "text/plain": [
       "<Figure size 640x480 with 1 Axes>"
      ]
     },
     "metadata": {},
     "output_type": "display_data"
    }
   ],
   "source": [
    "df_Open = groupings.get_group('Open')\n",
    "df_Closed = groupings.get_group('Closed')\n",
    "\n",
    "plt.hist(df_Open.Open_or_Closed, bins=10, label='Open')\n",
    "plt.hist(df_Closed.Open_or_Closed, bins=10, label='Closed')\n",
    "\n",
    "plt.legend()\n",
    "plt.title(\"Open vs Closed\")\n",
    "plt.ylabel(\"Amount of votes\")"
   ]
  },
  {
   "cell_type": "code",
   "execution_count": 16,
   "id": "f33efc1a-56fc-4883-a5b2-0c9bc0dcfb8b",
   "metadata": {},
   "outputs": [
    {
     "data": {
      "text/plain": [
       "Text(0, 0.5, 'Amount of votes')"
      ]
     },
     "execution_count": 16,
     "metadata": {},
     "output_type": "execute_result"
    },
    {
     "data": {
      "image/png": "[encoded data removed]",
      "text/plain": [
       "<Figure size 640x480 with 1 Axes>"
      ]
     },
     "metadata": {},
     "output_type": "display_data"
    }
   ],
   "source": [
    "groupings_1 = survey.groupby('Private_or_Public')\n",
    "df_Private = groupings_1.get_group('Private')\n",
    "df_Public = groupings_1.get_group('Public')\n",
    "\n",
    "plt.hist(df_Private.Private_or_Public, bins=10, label='Private', color='hotpink')\n",
    "plt.hist(df_Public.Private_or_Public, bins=10, label='Public', color='pink')\n",
    "\n",
    "plt.legend()\n",
    "plt.title(\"Private vs Public\")\n",
    "plt.ylabel(\"Amount of votes\")"
   ]
  },
  {
   "cell_type": "code",
   "execution_count": 23,
   "id": "ae4c5c48-e49c-4c00-a876-4582fdb09018",
   "metadata": {},
   "outputs": [
    {
     "data": {
      "text/plain": [
       "Text(0, 0.5, 'Amount of votes')"
      ]
     },
     "execution_count": 23,
     "metadata": {},
     "output_type": "execute_result"
    },
    {
     "data": {
      "image/png": "[encoded data removed]",
      "text/plain": [
       "<Figure size 640x480 with 1 Axes>"
      ]
     },
     "metadata": {},
     "output_type": "display_data"
    }
   ],
   "source": [
    "groupings_2 = survey.groupby('Dark_or_Light')\n",
    "df_Dark = groupings_2.get_group('Dark')\n",
    "df_Light = groupings_2.get_group('Light')\n",
    "\n",
    "plt.hist(df_Dark.Dark_or_Light, bins=10, label='Dark', color='hotpink')\n",
    "plt.hist(df_Light.Dark_or_Light, bins=10, label='Light', color='pink')\n",
    "\n",
    "plt.legend()\n",
    "plt.title(\"Dark vs Light\")\n",
    "plt.ylabel(\"Amount of votes\")"
   ]
  },
  {
   "cell_type": "code",
   "execution_count": 17,
   "id": "b0fd1e9b-06b5-4968-af56-a8267b9369a6",
   "metadata": {},
   "outputs": [
    {
     "data": {
      "image/png": "[encoded data removed]",
      "text/plain": [
       "<Figure size 640x480 with 1 Axes>"
      ]
     },
     "metadata": {},
     "output_type": "display_data"
    }
   ],
   "source": [
    "ax = survey['Open_or_Closed'].value_counts().plot(kind='pie', autopct='%1.1f%%', startangle=90, colors=['hotpink', 'pink'])\n",
    "\n",
    "plt.gcf().set_facecolor('black')  # Set the figure (overall) background to black\n",
    "ax.set_facecolor('black')\n",
    "\n",
    "plt.title('Open or Closed', color='white')\n",
    "plt.ylabel('Does the cohort prefer open or closed?', color='white')\n",
    "plt.show()\n",
    "\n",
    "# Notes \n",
    "# plot() is a function to create diagrams\n",
    "# value_counts() is a function is to count and get a series of unique values\n",
    "# kind = 'pie' is stating you want a pie chart\n",
    "# autopct='%1.1f%%' is apparently used to get a percentage of each slice of the pie? (i don't quiet get this yet)\n",
    "# startangle = 90 is so that the slices are rotated counter-clockwise by 90 degrees"
   ]
  },
  {
   "cell_type": "code",
   "execution_count": 18,
   "id": "545168fb-c5e3-4778-857c-6a12cc2fd523",
   "metadata": {},
   "outputs": [
    {
     "data": {
      "image/png": "[encoded data removed]",
      "text/plain": [
       "<Figure size 640x480 with 1 Axes>"
      ]
     },
     "metadata": {},
     "output_type": "display_data"
    }
   ],
   "source": [
    "ax = survey['Private_or_Public'].value_counts().plot(kind='pie', autopct='%1.1f%%', startangle=90, colors=['hotpink', 'pink'], textprops={'color': 'white'})\n",
    "\n",
    "plt.gcf().set_facecolor('black')  # Set the figure (overall) background to black\n",
    "ax.set_facecolor('black')\n",
    "\n",
    "plt.title('Private or Public?', color ='white')\n",
    "plt.ylabel('Does the cohort prefer Private or Public?', color ='white')\n",
    "plt.show()"
   ]
  },
  {
   "cell_type": "code",
   "execution_count": 21,
   "id": "c508829c-9286-47a1-bba6-df928c1ca393",
   "metadata": {},
   "outputs": [
    {
     "data": {
      "image/png": "[encoded data removed]",
      "text/plain": [
       "<Figure size 640x480 with 1 Axes>"
      ]
     },
     "metadata": {},
     "output_type": "display_data"
    }
   ],
   "source": [
    "ax = survey['Old_or_New'].value_counts().plot(kind='pie', autopct='%1.1f%%', startangle=90, colors=['hotpink', 'pink'], textprops={'color': 'white'})\n",
    "\n",
    "plt.gcf().set_facecolor('black')  # Set the figure (overall) background to black\n",
    "ax.set_facecolor('black')\n",
    "\n",
    "plt.title('Old or New?', color ='white')\n",
    "plt.ylabel('Does the cohort prefer the Old or the New?', color ='white')\n",
    "plt.show()"
   ]
  },
  {
   "cell_type": "code",
   "execution_count": 22,
   "id": "c82fce7a-68c8-4377-8c4e-ded0aa10b5f9",
   "metadata": {},
   "outputs": [
    {
     "data": {
      "image/png": "[encoded data removed]",
      "text/plain": [
       "<Figure size 640x480 with 1 Axes>"
      ]
     },
     "metadata": {},
     "output_type": "display_data"
    }
   ],
   "source": [
    "ax = survey['Quiet_or_Loud'].value_counts().plot(kind='pie', autopct='%1.1f%%', startangle=90, colors=['hotpink', 'pink'], textprops={'color': 'white'})\n",
    "\n",
    "plt.gcf().set_facecolor('black')  # Set the figure (overall) background to black\n",
    "ax.set_facecolor('black')\n",
    "\n",
    "plt.title('Quiet or Loud?', color ='white')\n",
    "plt.ylabel('Does the cohort prefer the Quiet or Loud?', color ='white')\n",
    "plt.show()"
   ]
  },
  {
   "cell_type": "code",
   "execution_count": null,
   "id": "ebf9b418-02d4-423d-974f-8416b9d8c098",
   "metadata": {},
   "outputs": [],
   "source": []
  }
 ],
 "metadata": {
  "kernelspec": {
   "display_name": "Python 3 (ipykernel)",
   "language": "python",
   "name": "python3"
  },
  "language_info": {
   "codemirror_mode": {
    "name": "ipython",
    "version": 3
   },
   "file_extension": ".py",
   "mimetype": "text/x-python",
   "name": "python",
   "nbconvert_exporter": "python",
   "pygments_lexer": "ipython3",
   "version": "3.12.7"
  }
 },
 "nbformat": 4,
 "nbformat_minor": 5
}
